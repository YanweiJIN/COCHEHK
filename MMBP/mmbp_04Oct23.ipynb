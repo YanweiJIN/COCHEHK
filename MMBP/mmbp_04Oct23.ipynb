{
 "cells": [
  {
   "cell_type": "markdown",
   "metadata": {},
   "source": [
    "1. Split frmer big function to singles"
   ]
  },
  {
   "cell_type": "code",
   "execution_count": 1,
   "metadata": {},
   "outputs": [],
   "source": [
    "import numpy as np\n",
    "import pandas as pd\n",
    "import matplotlib.pyplot as plt\n",
    "from scipy import signal\n",
    "import scipy.io\n",
    "import os\n"
   ]
  },
  {
   "cell_type": "code",
   "execution_count": 25,
   "metadata": {},
   "outputs": [],
   "source": [
    "## Read all '.mat' data in one Subject\n",
    "data_root = '/home/jinyanwei/Documents/JYW_COCHE/Project/MMBP/data/MMData'\n",
    "\n",
    "'''Sub_combined_data_path = '/home/jinyanwei/Documents/JYW_COCHE/Project/MMBP/data/Sub_combined_data'\n",
    "if not os.path.exists(Sub_combined_data_path):\n",
    "    os.makedirs(Sub_combined_data_path)'''\n",
    "    \n",
    "## Dict Sub contains all subjects\n",
    "Sub = {} \n",
    "Sub['sub_id'] = list(os.walk(data_root))[0][1] #len(Sub['sub_id']) = 15\n",
    "\n",
    "def combine_all_subjects_row_data(i):\n",
    "    Sub[f\"{Sub['sub_id'][i]}\"] = {}\n",
    "    rest1_s = []\n",
    "    CT_s = []\n",
    "    recover_s = []\n",
    "    rest2_s = []\n",
    "    Sub[f\"{Sub['sub_id'][i]}\"]['seg'] = [n.split('.')[0] for n in list(os.walk(data_root))[i+1][2]]\n",
    "    #print(Sub[f\"{Sub['sub_id'][i]}\"]['seg'])\n",
    "    for s in Sub[f\"{Sub['sub_id'][i]}\"]['seg']:\n",
    "        Sub[f\"{Sub['sub_id'][i]}\"][s] = scipy.io.loadmat(f\"{data_root}/{Sub['sub_id'][i]}/{s}.mat\")[s]\n",
    "        for r in s.split('_'):\n",
    "            if r in ['recover', 're', 'Recover']: #this seg is one of Recover\n",
    "                recover_s.append(s)\n",
    "            elif r in ['rest1']:\n",
    "                rest1_s.append(s)\n",
    "            elif r in ['CT', 'ct']:\n",
    "                CT_s.append(s)\n",
    "            elif r in ['rest2']:\n",
    "                rest2_s.append(s)\n",
    "            elif r in ['rest']:\n",
    "                rest_index = s.split('_').index('rest')\n",
    "                if s.split('_')[rest_index + 1] == '1':\n",
    "                    rest1_s.append(s)\n",
    "                else:\n",
    "                    rest2_s.append(s)\n",
    "\n",
    "    #print(rest1_s)\n",
    "    ## Type 4 stage in one Subject\n",
    "    Sub[f\"{Sub['sub_id'][i]}\"]['rest1'] = np.concatenate([Sub[f\"{Sub['sub_id'][i]}\"][si] for si in rest1_s], axis=1)\n",
    "    r1code = np.full((1, Sub[f\"{Sub['sub_id'][i]}\"]['rest1'].shape[1]), 1)\n",
    "    Sub[f\"{Sub['sub_id'][i]}\"]['rest1'] = np.concatenate((Sub[f\"{Sub['sub_id'][i]}\"]['rest1'], r1code), axis=0)\n",
    "    Sub[f\"{Sub['sub_id'][i]}\"]['CT'] = np.concatenate([Sub[f\"{Sub['sub_id'][i]}\"][si] for si in CT_s], axis=1)\n",
    "    CTcode = np.full((1, Sub[f\"{Sub['sub_id'][i]}\"]['CT'].shape[1]), 2)\n",
    "    Sub[f\"{Sub['sub_id'][i]}\"]['CT'] = np.concatenate((Sub[f\"{Sub['sub_id'][i]}\"]['CT'], CTcode), axis=0)\n",
    "    Sub[f\"{Sub['sub_id'][i]}\"]['recover'] = np.concatenate([Sub[f\"{Sub['sub_id'][i]}\"][si] for si in recover_s], axis=1)\n",
    "    recode = np.full((1, Sub[f\"{Sub['sub_id'][i]}\"]['recover'].shape[1]), 3)\n",
    "    Sub[f\"{Sub['sub_id'][i]}\"]['recover'] = np.concatenate((Sub[f\"{Sub['sub_id'][i]}\"]['recover'], recode), axis=0)\n",
    "    Sub[f\"{Sub['sub_id'][i]}\"]['rest2'] = np.concatenate([Sub[f\"{Sub['sub_id'][i]}\"][si] for si in rest2_s], axis=1)\n",
    "    r2code = np.full((1, Sub[f\"{Sub['sub_id'][i]}\"]['rest2'].shape[1]), 4)\n",
    "    Sub[f\"{Sub['sub_id'][i]}\"]['rest2'] = np.concatenate((Sub[f\"{Sub['sub_id'][i]}\"]['rest2'], r2code), axis=0)\n",
    "    ## Concat to on entire one\n",
    "    Sub[f\"{Sub['sub_id'][i]}\"]['data'] = np.concatenate((Sub[f\"{Sub['sub_id'][i]}\"]['rest1'], Sub[f\"{Sub['sub_id'][i]}\"]['CT'], Sub[f\"{Sub['sub_id'][i]}\"]['recover'], Sub[f\"{Sub['sub_id'][i]}\"]['rest2']), axis=1)\n",
    "    #print(len(Sub[f\"{Sub['sub_id'][i]}\"]['data'][0]))\n",
    "    #print(Sub[f\"{Sub['sub_id'][i]}\"]['data'])\n",
    "    '''sub_comb_filename = Sub_combined_data_path + f\"/S{Sub['sub_id'][i]}_combined.csv\"\n",
    "    np.savetxt(sub_comb_filename, Sub[f\"{Sub['sub_id'][i]}\"]['data'], delimiter=',')'''\n",
    "    \n",
    "    return\n",
    "\n",
    "## Get 5 signals and show\n",
    "fs = 2000\n",
    "tags = ['ECG', 'CBP', 'PPG', 'IPG', 'Temp', 'Stage', 'ECGf']\n",
    "result_root = '/home/jinyanwei/Documents/JYW_COCHE/Project/MMBP/result/MMData'\n",
    "\n",
    "def get_signals_show(i, figshow=0):\n",
    "    for da in range(6):\n",
    "        Sub[f\"{Sub['sub_id'][i]}\"][f\"{tags[da]}\"] = Sub[f\"{Sub['sub_id'][i]}\"]['data'][da]\n",
    "    if figshow==1:\n",
    "        begin_index, end_index = 0, 30000 #S1.shape[1]\n",
    "        fig, axs = plt.subplots(nrows=5, ncols=1, figsize=(18, 10), dpi=96)\n",
    "        for sgn in range(5):\n",
    "            axs[sgn].plot(Sub[f\"{Sub['sub_id'][i]}\"]['data'][sgn][begin_index:end_index])\n",
    "            axs[sgn].set_title(f\"{tags[sgn]}\")\n",
    "        fig.subplots_adjust(hspace=0.55)\n",
    "        result_path = result_root + f\"/S{Sub['sub_id'][i]}\"\n",
    "        if not os.path.exists(result_path):\n",
    "            os.makedirs(result_path)\n",
    "        plt.savefig(f\"{result_path}/S{Sub['sub_id'][i]}_{int(begin_index/fs)}to{int(end_index/fs)}sec.png\")\n",
    "        plt.show()\n",
    "\n",
    "    return\n",
    "\n",
    "for i in range(len(Sub['sub_id'])):\n",
    "    combine_all_subjects_row_data(i)\n",
    "    get_signals_show(i)\n"
   ]
  },
  {
   "cell_type": "code",
   "execution_count": 26,
   "metadata": {},
   "outputs": [],
   "source": [
    "## Filter ECG and show"
   ]
  },
  {
   "cell_type": "code",
   "execution_count": null,
   "metadata": {},
   "outputs": [],
   "source": []
  }
 ],
 "metadata": {
  "kernelspec": {
   "display_name": "base",
   "language": "python",
   "name": "python3"
  },
  "language_info": {
   "codemirror_mode": {
    "name": "ipython",
    "version": 3
   },
   "file_extension": ".py",
   "mimetype": "text/x-python",
   "name": "python",
   "nbconvert_exporter": "python",
   "pygments_lexer": "ipython3",
   "version": "3.11.5"
  },
  "orig_nbformat": 4
 },
 "nbformat": 4,
 "nbformat_minor": 2
}
